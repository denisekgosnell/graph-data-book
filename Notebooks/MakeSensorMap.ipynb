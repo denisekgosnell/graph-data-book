{
 "cells": [
  {
   "cell_type": "code",
   "execution_count": 6,
   "metadata": {},
   "outputs": [],
   "source": [
    "from graphdatabook.ch6_trees.external_data import TOWERS, SENSORS\n",
    "\n",
    "from bokeh.io import output_file, show\n",
    "from bokeh.models import ColumnDataSource, GMapOptions\n",
    "from bokeh.plotting import gmap\n",
    "\n",
    "import os\n",
    "GOOGLE_CLOUD_API_KEY = os.environ['GOOGLE_CLOUD_API_KEY']"
   ]
  },
  {
   "cell_type": "code",
   "execution_count": 7,
   "metadata": {},
   "outputs": [],
   "source": [
    "## if you don't have bokeh installed in your environment\n",
    "## uncomment the two lines below\n",
    "# import sys\n",
    "# !{sys.executable} -m pip install bokeh"
   ]
  },
  {
   "cell_type": "code",
   "execution_count": 8,
   "metadata": {},
   "outputs": [],
   "source": [
    "def create_data_structure(example_data):\n",
    "    \"\"\"\n",
    "        Use the TOWER and SENSOR dictionaries to render the data on a google map\n",
    "        param: example_data is a dictionary of the form key:val where val is a list [longitude, latitude]\n",
    "        return: source\n",
    "    \"\"\"\n",
    "    lat_data = []\n",
    "    long_data = []\n",
    "    for key, val in example_data.items():\n",
    "        long_data.append(val[0])\n",
    "        lat_data.append(val[1])\n",
    "    # to show ponts on a Bokeh gmap, it has to have the structure below\n",
    "    source = ColumnDataSource(data=dict(lat=lat_data, lon=long_data))\n",
    "    return source"
   ]
  },
  {
   "cell_type": "code",
   "execution_count": 9,
   "metadata": {},
   "outputs": [],
   "source": [
    "def make_seattle_map(map_name=\"seattle_towers.html\"):\n",
    "    \"\"\"\n",
    "    create a bokeh gmap to render the tower and sensor data for this example\n",
    "    \"\"\"\n",
    "    # setting up the plot with bokeh\n",
    "    output_file(map_name)\n",
    "    map_options = GMapOptions(lat=47.609522, lng=-122.256952, map_type=\"roadmap\", zoom=11)\n",
    "    p = gmap(GOOGLE_CLOUD_API_KEY, map_options, title=\"Seattle\")\n",
    "    # data ETL to shape the data into expected format for Bokeh\n",
    "    tower_source = create_data_structure(TOWERS)\n",
    "    sensor_source = create_data_structure(SENSORS)\n",
    "    # plot the sensors\n",
    "    p.asterisk(x=\"lon\", y=\"lat\", size=7, \n",
    "               line_color=\"#ca5f14\", fill_color=\"#ca5f14\", fill_alpha=1.0, \n",
    "               source=sensor_source)\n",
    "    # plot the towers\n",
    "    p.diamond_cross(x=\"lon\", y=\"lat\", size=12, \n",
    "                    line_color=\"#007a97\", fill_color=\"#007a97\", fill_alpha=0.5, \n",
    "                    source=tower_source)\n",
    "    # render and show the map\n",
    "    show(p)"
   ]
  },
  {
   "cell_type": "code",
   "execution_count": 10,
   "metadata": {},
   "outputs": [],
   "source": [
    "make_seattle_map()"
   ]
  },
  {
   "cell_type": "code",
   "execution_count": null,
   "metadata": {},
   "outputs": [],
   "source": []
  }
 ],
 "metadata": {
  "kernelspec": {
   "display_name": "Python 3",
   "language": "python",
   "name": "python3"
  },
  "language_info": {
   "codemirror_mode": {
    "name": "ipython",
    "version": 3
   },
   "file_extension": ".py",
   "mimetype": "text/x-python",
   "name": "python",
   "nbconvert_exporter": "python",
   "pygments_lexer": "ipython3",
   "version": "3.7.3"
  }
 },
 "nbformat": 4,
 "nbformat_minor": 2
}
