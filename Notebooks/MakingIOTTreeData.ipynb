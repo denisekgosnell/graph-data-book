{
 "cells": [
  {
   "cell_type": "code",
   "execution_count": 45,
   "metadata": {},
   "outputs": [],
   "source": [
    "import numpy as np\n",
    "import random\n",
    "from pprint import pprint\n",
    "def haversine_np(lon1, lat1, lon2, lat2):\n",
    "    \"\"\"\n",
    "    Calculate the great circle distance between two points\n",
    "    on the earth (specified in decimal degrees)\n",
    "\n",
    "    All args must be of equal length.    \n",
    "\n",
    "    \"\"\"\n",
    "    lon1, lat1, lon2, lat2 = map(np.radians, [lon1, lat1, lon2, lat2])\n",
    "\n",
    "    dlon = lon2 - lon1\n",
    "    dlat = lat2 - lat1\n",
    "\n",
    "    a = np.sin(dlat/2.0)**2 + np.cos(lat1) * np.cos(lat2) * np.sin(dlon/2.0)**2\n",
    "\n",
    "    c = 2 * np.arcsin(np.sqrt(a))\n",
    "    km = 6367 * c\n",
    "    return km"
   ]
  },
  {
   "cell_type": "code",
   "execution_count": 38,
   "metadata": {},
   "outputs": [],
   "source": [
    "sensor_neighbors = {}\n",
    "for i, (key, val) in enumerate(SENSORS.items()):\n",
    "    distances = {}\n",
    "    for j, (key2, val2) in enumerate(SENSORS.items()):\n",
    "        if key != key2:\n",
    "            distance = haversine_np(val[0], val[1], val2[0], val2[1])\n",
    "            distances[key2] = distance\n",
    "    sorted_distances = sorted(distances.items(), key=lambda kv: kv[1])\n",
    "    sensor_neighbors[key] = sorted_distances[0:5]"
   ]
  },
  {
   "cell_type": "code",
   "execution_count": 39,
   "metadata": {},
   "outputs": [],
   "source": [
    "sensor_tower_neighbors = {}\n",
    "for i, (key, val) in enumerate(SENSORS.items()):\n",
    "    distances = {}\n",
    "    for j, (key2, val2) in enumerate(TOWERS.items()):\n",
    "        distance = haversine_np(val[0], val[1], val2[0], val2[1])\n",
    "        distances[key2] = distance\n",
    "    sorted_distances = sorted(distances.items(), key=lambda kv: kv[1])\n",
    "    sensor_tower_neighbors[key] = sorted_distances[0:5]"
   ]
  },
  {
   "cell_type": "code",
   "execution_count": 40,
   "metadata": {},
   "outputs": [],
   "source": [
    "def inspect_data_structures(current_sensor, time, to_edge, data_structure):\n",
    "    print(\"Current sensor: \", current_sensor)\n",
    "    print(\"Time: \", time)\n",
    "    print(\"******** SP ********\")\n",
    "    pprint(sensor_path)\n",
    "    print(\"******** EL ********\")\n",
    "    pprint(edge_list)"
   ]
  },
  {
   "cell_type": "code",
   "execution_count": 56,
   "metadata": {},
   "outputs": [],
   "source": [
    "def update_edge_list(current_sensor, time, to_edge, edge_list):\n",
    "    \"\"\"\n",
    "    update in memory graph data structure\n",
    "    Structure:\n",
    "        {current_sensor: {time: next0}, \n",
    "         next0: {1: next1},\n",
    "         next1: {2: next2}\n",
    "    \"\"\"\n",
    "    # current_sensor --- time ---> to_edge\n",
    "    if current_sensor in edge_list.keys():\n",
    "        if time in edge_list[current_sensor].keys():\n",
    "            print(\"CONSTRUCTION ERROR: {} already has an edge at time {}\".format(current_sensor, time))\n",
    "            inspect_data_structures(current_sensor, time, to_edge, edge_list)\n",
    "            raise ValueError\n",
    "        else:\n",
    "            edge_list[current_sensor][time] = to_edge\n",
    "    else:\n",
    "        edge_list[current_sensor] = {time: to_edge}\n",
    "    return edge_list\n",
    "\n",
    "def update_sensor_path(starting_sensor, time, to_edge, sensor_path):\n",
    "    \"\"\"\n",
    "    update in memory graph data structure\n",
    "    # {starting_sensor : {time:to_edge}}\n",
    "    \"\"\"\n",
    "    # current_sensor --- t ---> to_edge\n",
    "    if starting_sensor in sensor_path.keys():\n",
    "        if time in sensor_path[starting_sensor].keys():\n",
    "            print(\"CONSTRUCTION ERROR: {} already has an edge at time {} in sensor_path\".format(starting_sensor, time))\n",
    "            inspect_data_structures(starting_sensor, time, to_edge, sensor_path)\n",
    "            raise ValueError\n",
    "        else:\n",
    "            sensor_path[starting_sensor][time] = to_edge\n",
    "    else:\n",
    "        print(\"CONSTRUCTION ERROR: sensor_path was not initalized for {}\".format(starting_sensor))\n",
    "        inspect_data_structures(current_sensor, time, to_edge, sensor_path)\n",
    "        raise ValueError\n",
    "    return sensor_path\n",
    "\n",
    "def edge_already_exists(current_sensor, time, edge_list):\n",
    "    \"\"\"\n",
    "    see if there aready is an edge @ time in edge_list\n",
    "    \"\"\"\n",
    "    if current_sensor in edge_list.keys():\n",
    "        if time in edge_list[current_sensor].keys():\n",
    "            return True\n",
    "    return False"
   ]
  },
  {
   "cell_type": "code",
   "execution_count": 52,
   "metadata": {},
   "outputs": [],
   "source": [
    "def get_adjacent_vertex(current_sensor, edge_list, t):\n",
    "    \"\"\"\n",
    "    get the vertex connect to the current sensor at time t\n",
    "    \"\"\"\n",
    "    if(current_sensor in edge_list.keys()):\n",
    "        if(t in edge_list[current_sensor].keys()):\n",
    "            return edge_list[current_sensor][t]\n",
    "    return None\n",
    "\n",
    "def is_tower(current_sensor, tower_names=TOWERS.keys()):\n",
    "    \"\"\"\n",
    "    return true of the sensor is a tower\n",
    "    \"\"\"\n",
    "    if(current_sensor in tower_names):\n",
    "        return True\n",
    "    else:\n",
    "        return False"
   ]
  },
  {
   "cell_type": "code",
   "execution_count": 79,
   "metadata": {},
   "outputs": [],
   "source": [
    "def validate_path(starting_sensor, sensor_path, edge_list):\n",
    "    \"\"\"\n",
    "    1. sensor_path[starting_sensor] ends at a tower\n",
    "    2. all edges from sensor_path are in edge list\n",
    "    \"\"\"\n",
    "    # VALIDATE CONSTRUCTION FOR THE STARTING VERTEX\n",
    "    time = 0\n",
    "    current_sensor = starting_sensor\n",
    "    next_vertex = get_adjacent_vertex(current_sensor, edge_list, time)\n",
    "    while(next_vertex):\n",
    "        current_sensor = next_vertex\n",
    "        time = time + 1\n",
    "        next_vertex = get_adjacent_vertex(current_sensor, edge_list, time)\n",
    "    try:\n",
    "        assert is_tower(current_sensor)\n",
    "    except AssertionError:\n",
    "        inspect_data_structures(starting_sensor, time, next_vertex, edge_list)\n",
    "        inspect_data_structures(starting_sensor, time, next_vertex, sensor_path)\n",
    "        raise AssertionError"
   ]
  },
  {
   "cell_type": "code",
   "execution_count": 101,
   "metadata": {},
   "outputs": [],
   "source": [
    "# {vertex : {0:next0, 1:next1, 2:next2}}\n",
    "sensor_path = {}\n",
    "# {vertex: {0: next0}, \n",
    "#  next0: {1: next1},\n",
    "#  next1: {2: next2}\n",
    "edge_list = {}\n",
    "TIME_BOUND = 5\n",
    "\n",
    "# for each sensor in SENSORS\n",
    "for i, (starting_sensor, val) in enumerate(SENSORS.items()):\n",
    "    # initailize variables\n",
    "    tower_path = False\n",
    "    time = 0\n",
    "    visited_on_path = [starting_sensor]\n",
    "    sensor_path[starting_sensor] = {}\n",
    "    current_sensor = starting_sensor\n",
    "    while(not(tower_path) and (time < TIME_BOUND)):\n",
    "        # give it an edge and neighbor at time 0\n",
    "        if edge_already_exists(current_sensor, time, edge_list):\n",
    "            # setting this to break the while loop\n",
    "            tower_path = True\n",
    "        else:\n",
    "            random.shuffle(sensor_neighbors[current_sensor])\n",
    "            to_edge = sensor_neighbors[current_sensor][0][0]\n",
    "            if to_edge in visited_on_path:\n",
    "                # avoiding cycles\n",
    "                # we want the while loop to fail if this happens\n",
    "                tower_path = True\n",
    "            else:\n",
    "                visited_on_path.append(to_edge)\n",
    "                edge_list = update_edge_list(current_sensor, time, to_edge, edge_list)\n",
    "                sensor_path = update_sensor_path(starting_sensor, time, to_edge, sensor_path)\n",
    "                time = time + 1\n",
    "                current_sensor = to_edge\n",
    "    if(time == TIME_BOUND):\n",
    "        # did we already add a tower at this time? \n",
    "        if(edge_already_exists(current_sensor, time, edge_list)):\n",
    "            # assert an adjacent tower\n",
    "            assert is_tower(get_adjacent_vertex(current_sensor, edge_list, time)) \n",
    "        else:\n",
    "            ## add an edge from the current sensor to a tower\n",
    "            random.shuffle(sensor_tower_neighbors[current_sensor])\n",
    "            to_tower = sensor_tower_neighbors[current_sensor][0][0]\n",
    "            edge_list = update_edge_list(current_sensor, time, to_tower, edge_list)\n",
    "            sensor_path = update_sensor_path(starting_sensor, time, to_tower, sensor_path)\n",
    "    else:\n",
    "        ## add an edge from the current sensor to a tower\n",
    "        if(not(edge_already_exists(current_sensor, time, edge_list))):\n",
    "            random.shuffle(sensor_tower_neighbors[current_sensor])\n",
    "            to_tower = sensor_tower_neighbors[current_sensor][0][0]\n",
    "            edge_list = update_edge_list(current_sensor, time, to_tower, edge_list)\n",
    "            sensor_path = update_sensor_path(starting_sensor, time, to_tower, sensor_path)\n",
    "    validate_path(starting_sensor, sensor_path, edge_list)"
   ]
  },
  {
   "cell_type": "code",
   "execution_count": 83,
   "metadata": {},
   "outputs": [
    {
     "data": {
      "text/plain": [
       "0"
      ]
     },
     "execution_count": 83,
     "metadata": {},
     "output_type": "execute_result"
    }
   ],
   "source": [
    "time"
   ]
  },
  {
   "cell_type": "code",
   "execution_count": 97,
   "metadata": {},
   "outputs": [
    {
     "data": {
      "text/plain": [
       "False"
      ]
     },
     "execution_count": 97,
     "metadata": {},
     "output_type": "execute_result"
    }
   ],
   "source": [
    "not(tower_path) and (time < TIME_BOUND)"
   ]
  },
  {
   "cell_type": "code",
   "execution_count": 72,
   "metadata": {},
   "outputs": [
    {
     "data": {
      "text/plain": [
       "False"
      ]
     },
     "execution_count": 72,
     "metadata": {},
     "output_type": "execute_result"
    }
   ],
   "source": [
    "tower_path and (time < TIME_BOUND)"
   ]
  },
  {
   "cell_type": "code",
   "execution_count": 90,
   "metadata": {},
   "outputs": [
    {
     "name": "stdout",
     "output_type": "stream",
     "text": [
      "4\n",
      "True\n"
     ]
    },
    {
     "data": {
      "text/plain": [
       "False"
      ]
     },
     "execution_count": 90,
     "metadata": {},
     "output_type": "execute_result"
    }
   ],
   "source": [
    "time = 4\n",
    "tower_path = True\n",
    "print(time)\n",
    "print(tower_path)\n",
    "not(tower_path) and (time < TIME_BOUND)"
   ]
  },
  {
   "cell_type": "code",
   "execution_count": 95,
   "metadata": {},
   "outputs": [
    {
     "data": {
      "text/plain": [
       "True"
      ]
     },
     "execution_count": 95,
     "metadata": {},
     "output_type": "execute_result"
    }
   ],
   "source": [
    "edge_already_exists(\"126951211\", 1, edge_list)"
   ]
  },
  {
   "cell_type": "code",
   "execution_count": 104,
   "metadata": {},
   "outputs": [],
   "source": [
    "path = [\"a\", \"b\", \"a\"]"
   ]
  },
  {
   "cell_type": "code",
   "execution_count": 105,
   "metadata": {},
   "outputs": [
    {
     "ename": "AssertionError",
     "evalue": "",
     "output_type": "error",
     "traceback": [
      "\u001b[0;31m---------------------------------------------------------------------------\u001b[0m",
      "\u001b[0;31mAssertionError\u001b[0m                            Traceback (most recent call last)",
      "\u001b[0;32m<ipython-input-105-47d80f14e2e3>\u001b[0m in \u001b[0;36m<module>\u001b[0;34m\u001b[0m\n\u001b[0;32m----> 1\u001b[0;31m \u001b[0;32massert\u001b[0m \u001b[0mlen\u001b[0m\u001b[0;34m(\u001b[0m\u001b[0mpath\u001b[0m\u001b[0;34m)\u001b[0m \u001b[0;34m==\u001b[0m \u001b[0mlen\u001b[0m\u001b[0;34m(\u001b[0m\u001b[0mset\u001b[0m\u001b[0;34m(\u001b[0m\u001b[0mpath\u001b[0m\u001b[0;34m)\u001b[0m\u001b[0;34m)\u001b[0m\u001b[0;34m\u001b[0m\u001b[0;34m\u001b[0m\u001b[0m\n\u001b[0m",
      "\u001b[0;31mAssertionError\u001b[0m: "
     ]
    }
   ],
   "source": [
    "assert len(path) == len(set(path))"
   ]
  },
  {
   "cell_type": "code",
   "execution_count": 106,
   "metadata": {},
   "outputs": [
    {
     "data": {
      "text/plain": [
       "\"['a', 'b', 'a']\""
      ]
     },
     "execution_count": 106,
     "metadata": {},
     "output_type": "execute_result"
    }
   ],
   "source": [
    "str(path)"
   ]
  },
  {
   "cell_type": "code",
   "execution_count": 111,
   "metadata": {},
   "outputs": [],
   "source": [
    "test = {\"a\":[(0,1),(1,1),(2,1)]}"
   ]
  },
  {
   "cell_type": "code",
   "execution_count": 112,
   "metadata": {},
   "outputs": [
    {
     "data": {
      "text/plain": [
       "{'a': [(0, 1), (1, 1), (2, 1)]}"
      ]
     },
     "execution_count": 112,
     "metadata": {},
     "output_type": "execute_result"
    }
   ],
   "source": [
    "test"
   ]
  },
  {
   "cell_type": "code",
   "execution_count": 113,
   "metadata": {},
   "outputs": [],
   "source": [
    "neighbors = [item[0] for item in test[\"a\"]]"
   ]
  },
  {
   "cell_type": "code",
   "execution_count": 114,
   "metadata": {},
   "outputs": [
    {
     "data": {
      "text/plain": [
       "[0, 1, 2]"
      ]
     },
     "execution_count": 114,
     "metadata": {},
     "output_type": "execute_result"
    }
   ],
   "source": [
    "neighbors"
   ]
  },
  {
   "cell_type": "code",
   "execution_count": 115,
   "metadata": {},
   "outputs": [
    {
     "data": {
      "text/plain": [
       "[0, 1]"
      ]
     },
     "execution_count": 115,
     "metadata": {},
     "output_type": "execute_result"
    }
   ],
   "source": [
    "neighbors[0:len(neighbors)-1]"
   ]
  },
  {
   "cell_type": "code",
   "execution_count": 116,
   "metadata": {},
   "outputs": [
    {
     "data": {
      "text/plain": [
       "[2]"
      ]
     },
     "execution_count": 116,
     "metadata": {},
     "output_type": "execute_result"
    }
   ],
   "source": [
    "neighbors[len(neighbors)-1:]"
   ]
  },
  {
   "cell_type": "code",
   "execution_count": 118,
   "metadata": {},
   "outputs": [
    {
     "name": "stdout",
     "output_type": "stream",
     "text": [
      "0\n",
      "1\n",
      "2\n",
      "3\n"
     ]
    }
   ],
   "source": [
    "test = [[0,1],[2,3]]\n",
    "for [a,b] in test:\n",
    "    print(a)\n",
    "    print(b)"
   ]
  },
  {
   "cell_type": "code",
   "execution_count": 123,
   "metadata": {},
   "outputs": [
    {
     "name": "stdout",
     "output_type": "stream",
     "text": [
      "[2, 3]\n"
     ]
    }
   ],
   "source": [
    "ex = test[-1]\n",
    "print(ex)"
   ]
  },
  {
   "cell_type": "code",
   "execution_count": 125,
   "metadata": {},
   "outputs": [
    {
     "ename": "SyntaxError",
     "evalue": "invalid syntax (<ipython-input-125-851c55bc2128>, line 1)",
     "output_type": "error",
     "traceback": [
      "\u001b[0;36m  File \u001b[0;32m\"<ipython-input-125-851c55bc2128>\"\u001b[0;36m, line \u001b[0;32m1\u001b[0m\n\u001b[0;31m    for a, b in *ex:\u001b[0m\n\u001b[0m                ^\u001b[0m\n\u001b[0;31mSyntaxError\u001b[0m\u001b[0;31m:\u001b[0m invalid syntax\n"
     ]
    }
   ],
   "source": [
    "for a, b in *ex:\n",
    "    print(a)\n",
    "    print(b)"
   ]
  },
  {
   "cell_type": "code",
   "execution_count": null,
   "metadata": {},
   "outputs": [],
   "source": []
  }
 ],
 "metadata": {
  "kernelspec": {
   "display_name": "Python 3",
   "language": "python",
   "name": "python3"
  },
  "language_info": {
   "codemirror_mode": {
    "name": "ipython",
    "version": 3
   },
   "file_extension": ".py",
   "mimetype": "text/x-python",
   "name": "python",
   "nbconvert_exporter": "python",
   "pygments_lexer": "ipython3",
   "version": "3.7.3"
  }
 },
 "nbformat": 4,
 "nbformat_minor": 2
}
