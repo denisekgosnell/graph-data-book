{
 "cells": [
  {
   "cell_type": "code",
   "execution_count": 34,
   "metadata": {},
   "outputs": [],
   "source": [
    "from dse.cluster import Cluster, GraphExecutionProfile, EXEC_PROFILE_GRAPH_DEFAULT\n",
    "from dse.graph import GraphOptions, GraphProtocol\n",
    "from dse_graph import DseGraph\n",
    "\n",
    "from gremlin_python.process.graph_traversal import __\n",
    "from gremlin_python.process.traversal import P\n",
    "\n",
    "from math import radians, cos, sin, asin, sqrt\n"
   ]
  },
  {
   "cell_type": "code",
   "execution_count": 80,
   "metadata": {},
   "outputs": [],
   "source": [
    "graph_name = \"trees\"\n",
    "ep = GraphExecutionProfile(graph_options=GraphOptions(graph_name=graph_name,\n",
    "                                                      graph_protocol=GraphProtocol.GRAPHSON_3_0))\n",
    "cluster = Cluster(execution_profiles={EXEC_PROFILE_GRAPH_DEFAULT: ep})\n",
    "session = cluster.connect()\n",
    "g = DseGraph.traversal_source(session=session)"
   ]
  },
  {
   "cell_type": "code",
   "execution_count": 91,
   "metadata": {},
   "outputs": [],
   "source": [
    "def create_weighted_send_edges(nearest_neighbors, g, label, key):\n",
    "    # get the top 10 nearest sensors\n",
    "    for sensor, neighbors in nearest_neighbors.items(): # we are always making edges from a sensor to something else\n",
    "        # neighbors is a list of tuples\n",
    "        for neighbor in neighbors:\n",
    "            # neighbor[0] is the distance\n",
    "            # neighbor[1] is the dictionary of the object\n",
    "            neighbor_v = neighbor[1]\n",
    "            # add an Weighted_Send edge with initialized weight of 0.10\n",
    "            v1 = g.V().has(\"Sensor\", \"sensorName\", sensor).next()\n",
    "            v2 = g.V().has(label, key, neighbor_v.get(\"id\")).next()\n",
    "            g.V(v1). \\\n",
    "              addE('Weighted_Send'). \\\n",
    "              to(v2). \\\n",
    "              property(\"probability\", \"0.10\"). \\\n",
    "              next() \n",
    "    \n",
    "    \n",
    "def haversine(lon1, lat1, lon2, lat2):\n",
    "    \"\"\"\n",
    "    Calculate the great circle distance between two points \n",
    "    on the earth (specified in decimal degrees)\n",
    "    \"\"\"\n",
    "    # convert decimal degrees to radians \n",
    "    lon1, lat1, lon2, lat2 = map(radians, [lon1, lat1, lon2, lat2])\n",
    "\n",
    "    # haversine formula \n",
    "    dlon = lon2 - lon1 \n",
    "    dlat = lat2 - lat1 \n",
    "    a = sin(dlat/2)**2 + cos(lat1) * cos(lat2) * sin(dlon/2)**2\n",
    "    c = 2 * asin(sqrt(a)) \n",
    "    r = 6371 # Radius of earth in kilometers. Use 3956 for miles\n",
    "    return c * r\n",
    "\n",
    "\n",
    "def top_neighbors(sensors, compare_list, num_neighbors):\n",
    "    nearest_neighbors = {}\n",
    "    for sensor in sensors:\n",
    "        sensor_name = sensor.get(\"id\")\n",
    "        nearest_neighbors[sensor_name] = {}\n",
    "        for entity in compare_list:\n",
    "            if entity.get(\"id\") != sensor_name: # do not consider adding edges to itself\n",
    "                dist = haversine(sensor.get(\"long\"),\n",
    "                                          sensor.get(\"lat\"),\n",
    "                                          entity.get(\"long\"),\n",
    "                                          entity.get(\"lat\"))\n",
    "                nearest_neighbors[sensor_name][dist] = entity\n",
    "        nearest_neighbors[sensor_name] = list(sorted(nearest_neighbors[sensor_name].items()))\n",
    "        nearest_neighbors[sensor_name] = nearest_neighbors[sensor_name][0:num_neighbors]\n",
    "    return nearest_neighbors\n",
    "\n",
    "        \n",
    "def init_eligibility_weights(g):\n",
    "    ## Get all Sensors\n",
    "    sensors = g.V().hasLabel(\"Sensor\"). \\\n",
    "                    project(\"id\", \"lat\", \"long\"). \\\n",
    "                      by(\"sensorName\"). \\\n",
    "                      by(\"latitude\"). \\\n",
    "                      by(\"longitude\"). \\\n",
    "                      toList()\n",
    "    towers = g.V().hasLabel(\"Tower\"). \\\n",
    "                   project(\"id\", \"lat\", \"long\"). \\\n",
    "                      by(\"towerName\"). \\\n",
    "                      by(\"latitude\"). \\\n",
    "                      by(\"longitude\"). \\\n",
    "                      toList()\n",
    "    sensor_sensor_neighbors = top_neighbors(sensors, sensors, 10)\n",
    "    sensor_tower_neighbors = top_neighbors(sensors, towers, 10)\n",
    "\n",
    "    # initialize the sensor -- Weighted_Send --> sensor edges\n",
    "    create_weighted_send_edges(sensor_sensor_neighbors, g, \"Sensor\", \"sensorName\")\n",
    "    # initialize the sensor -- Weighted_Send --> tower edges\n",
    "    create_weighted_send_edges(sensor_tower_neighbors, g, \"Tower\", \"towerName\")\n"
   ]
  },
  {
   "cell_type": "code",
   "execution_count": 92,
   "metadata": {},
   "outputs": [],
   "source": [
    "init_eligibility_weights(g)"
   ]
  },
  {
   "cell_type": "code",
   "execution_count": 96,
   "metadata": {},
   "outputs": [],
   "source": [
    "data = g.V().has(\"Sensor\", \"sensorName\", \"1308319\").outE(\"Weighted_Send\").valueMap().iterate()"
   ]
  },
  {
   "cell_type": "code",
   "execution_count": 97,
   "metadata": {},
   "outputs": [
    {
     "data": {
      "text/plain": [
       "[['V'], ['has', 'Sensor', 'sensorName', '1308319'], ['outE', 'Weighted_Send'], ['valueMap'], ['none'], ['values', '_ipython_canary_method_should_not_exist_'], ['values', '_ipython_canary_method_should_not_exist_']]"
      ]
     },
     "execution_count": 97,
     "metadata": {},
     "output_type": "execute_result"
    }
   ],
   "source": [
    "data"
   ]
  },
  {
   "cell_type": "code",
   "execution_count": 99,
   "metadata": {},
   "outputs": [
    {
     "data": {
      "text/plain": [
       "[['V'], ['has', 'Sensor', 'sensorName', '1308319'], ['values', 'lat'], ['values', '_ipython_canary_method_should_not_exist_'], ['values', '_ipython_canary_method_should_not_exist_']]"
      ]
     },
     "execution_count": 99,
     "metadata": {},
     "output_type": "execute_result"
    }
   ],
   "source": [
    "g.V().has(\"Sensor\", \"sensorName\", \"1308319\").values(\"lat\")"
   ]
  },
  {
   "cell_type": "code",
   "execution_count": null,
   "metadata": {},
   "outputs": [],
   "source": []
  }
 ],
 "metadata": {
  "kernelspec": {
   "display_name": "Python 3",
   "language": "python",
   "name": "python3"
  },
  "language_info": {
   "codemirror_mode": {
    "name": "ipython",
    "version": 3
   },
   "file_extension": ".py",
   "mimetype": "text/x-python",
   "name": "python",
   "nbconvert_exporter": "python",
   "pygments_lexer": "ipython3",
   "version": "3.7.3"
  }
 },
 "nbformat": 4,
 "nbformat_minor": 2
}
