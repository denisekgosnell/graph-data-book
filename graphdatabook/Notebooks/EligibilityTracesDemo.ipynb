{
 "cells": [
  {
   "cell_type": "code",
   "execution_count": 34,
   "metadata": {},
   "outputs": [],
   "source": [
    "from dse.cluster import Cluster, GraphExecutionProfile, EXEC_PROFILE_GRAPH_DEFAULT\n",
    "from dse.graph import GraphOptions, GraphProtocol\n",
    "from dse_graph import DseGraph\n",
    "\n",
    "from gremlin_python.process.graph_traversal import __\n",
    "from gremlin_python.process.traversal import P\n",
    "\n",
    "from math import radians, cos, sin, asin, sqrt\n"
   ]
  },
  {
   "cell_type": "code",
   "execution_count": 2,
   "metadata": {},
   "outputs": [],
   "source": [
    "graph_name = \"trees\"\n",
    "ep = GraphExecutionProfile(graph_options=GraphOptions(graph_name=graph_name,\n",
    "                                                      graph_protocol=GraphProtocol.GRAPHSON_3_0))\n",
    "cluster = Cluster(execution_profiles={EXEC_PROFILE_GRAPH_DEFAULT: ep})\n",
    "session = cluster.connect()\n",
    "g = DseGraph.traversal_source(session=session)"
   ]
  },
  {
   "cell_type": "code",
   "execution_count": 59,
   "metadata": {},
   "outputs": [],
   "source": [
    "def create_weighted_send_edges(sensor, g, label, key):\n",
    "\n",
    "    # get the top 10 nearest sensors\n",
    "    print(nearby_neighbors)\n",
    "    # add an Weighted_Send edge with initialized weight of 0.10\n",
    "    \n",
    "    \n",
    "def haversine(lon1, lat1, lon2, lat2):\n",
    "    \"\"\"\n",
    "    Calculate the great circle distance between two points \n",
    "    on the earth (specified in decimal degrees)\n",
    "    \"\"\"\n",
    "    # convert decimal degrees to radians \n",
    "    lon1, lat1, lon2, lat2 = map(radians, [lon1, lat1, lon2, lat2])\n",
    "\n",
    "    # haversine formula \n",
    "    dlon = lon2 - lon1 \n",
    "    dlat = lat2 - lat1 \n",
    "    a = sin(dlat/2)**2 + cos(lat1) * cos(lat2) * sin(dlon/2)**2\n",
    "    c = 2 * asin(sqrt(a)) \n",
    "    r = 6371 # Radius of earth in kilometers. Use 3956 for miles\n",
    "    return c * r\n",
    "\n",
    "\n",
    "def top_neighbors(sensors, compare_list, num_neighbors):\n",
    "    nearest_neighbors = {}\n",
    "    for sensor in sensors:\n",
    "        sensor_name = sensor.get(\"id\")\n",
    "        nearest_neighbors[sensor_name] = {}\n",
    "        for entity in compare_list:\n",
    "            if entity.get(\"id\") != sensor_name:\n",
    "                dist = haversine(sensor.get(\"long\"),\n",
    "                                          sensor.get(\"lat\"),\n",
    "                                          entity.get(\"long\"),\n",
    "                                          entity.get(\"lat\"))\n",
    "                nearest_neighbors[sensor_name][dist] = entity\n",
    "        nearest_neighbors[sensor_name] = list(sorted(nearest_neighbors[sensor_name].items()))\n",
    "        nearest_neighbors[sensor_name] = nearest_neighbors[sensor_name][0:num_neighbors]\n",
    "    return nearest_neighbors\n",
    "\n",
    "        \n",
    "def init_eligibility_weights(g):\n",
    "    ## Get all Sensors\n",
    "    sensors = g.V().hasLabel(\"Sensor\"). \\\n",
    "                    project(\"id\", \"lat\", \"long\"). \\\n",
    "                      by(\"sensorName\"). \\\n",
    "                      by(\"latitude\"). \\\n",
    "                      by(\"longitude\"). \\\n",
    "                      toList()\n",
    "    towers = g.V().hasLabel(\"Tower\"). \\\n",
    "                   project(\"id\", \"lat\", \"long\"). \\\n",
    "                      by(\"towerName\"). \\\n",
    "                      by(\"latitude\"). \\\n",
    "                      by(\"longitude\"). \\\n",
    "                      toList()\n",
    "    sensor_sensor_neighbors = top_neighbors(sensors, sensors, 10)\n",
    "    sensor_tower_neighbors = top_neighbors(sensors, towers, 10)\n",
    "\n",
    "    return(sensor_sensor_neighbors, sensor_tower_neighbors )\n",
    "    # for each sensor\n",
    "    #for sensor in sensors:\n",
    "        # initialize the sensor -- Weighted_Send --> sensor edges\n",
    "        #create_weighted_send_edges(g, sensor, \"Sensor\", )\n",
    "        # initialize the sensor -- Weighted_Send --> tower edges\n",
    "        #create_weighted_send_edges(g, sensor, \"Tower\")\n"
   ]
  },
  {
   "cell_type": "code",
   "execution_count": 60,
   "metadata": {},
   "outputs": [],
   "source": [
    "sensors = g.V().hasLabel(\"Sensor\"). \\\n",
    "                    project(\"id\", \"lat\", \"long\"). \\\n",
    "                      by(\"sensorName\"). \\\n",
    "                      by(\"latitude\"). \\\n",
    "                      by(\"longitude\"). \\\n",
    "                      toList()\n",
    "nearest_neigh  = top_neighbors(sensors, sensors, 10)\n"
   ]
  },
  {
   "cell_type": "code",
   "execution_count": 69,
   "metadata": {},
   "outputs": [
    {
     "data": {
      "text/plain": [
       "dict"
      ]
     },
     "execution_count": 69,
     "metadata": {},
     "output_type": "execute_result"
    }
   ],
   "source": [
    "type(nearest_neigh[\"103318117\"][0][1])"
   ]
  },
  {
   "cell_type": "code",
   "execution_count": 33,
   "metadata": {},
   "outputs": [
    {
     "ename": "NameError",
     "evalue": "name 'Geo' is not defined",
     "output_type": "error",
     "traceback": [
      "\u001b[0;31m---------------------------------------------------------------------------\u001b[0m",
      "\u001b[0;31mNameError\u001b[0m                                 Traceback (most recent call last)",
      "\u001b[0;32m<ipython-input-33-b03800e313bb>\u001b[0m in \u001b[0;36m<module>\u001b[0;34m\u001b[0m\n\u001b[0;32m----> 1\u001b[0;31m \u001b[0mcreate_weighted_send_edges\u001b[0m\u001b[0;34m(\u001b[0m\u001b[0msensors\u001b[0m\u001b[0;34m[\u001b[0m\u001b[0;36m0\u001b[0m\u001b[0;34m]\u001b[0m\u001b[0;34m,\u001b[0m \u001b[0mg\u001b[0m\u001b[0;34m,\u001b[0m \u001b[0;34m\"Sensor\"\u001b[0m\u001b[0;34m,\u001b[0m \u001b[0;34m\"sensorName\"\u001b[0m\u001b[0;34m)\u001b[0m\u001b[0;34m\u001b[0m\u001b[0;34m\u001b[0m\u001b[0m\n\u001b[0m",
      "\u001b[0;32m<ipython-input-31-f33e4e1dffcd>\u001b[0m in \u001b[0;36mcreate_weighted_send_edges\u001b[0;34m(sensor, g, label, key)\u001b[0m\n\u001b[1;32m      5\u001b[0m     \u001b[0;32mif\u001b[0m \u001b[0;34m(\u001b[0m\u001b[0mlongitude\u001b[0m \u001b[0;32mand\u001b[0m \u001b[0mlatitude\u001b[0m\u001b[0;34m)\u001b[0m \u001b[0;32mis\u001b[0m \u001b[0;32mnot\u001b[0m \u001b[0;32mNone\u001b[0m\u001b[0;34m:\u001b[0m\u001b[0;34m\u001b[0m\u001b[0;34m\u001b[0m\u001b[0m\n\u001b[1;32m      6\u001b[0m         nearby_neighbors = g.V().has(label, 'coordinates', \n\u001b[0;32m----> 7\u001b[0;31m                                     Geo.inside(Geo.point(longitude, latitude), 1000, Geo.Unit.METERS)). \\\n\u001b[0m\u001b[1;32m      8\u001b[0m                                  \u001b[0mproject\u001b[0m\u001b[0;34m(\u001b[0m\u001b[0;34m\"id\"\u001b[0m\u001b[0;34m,\u001b[0m \u001b[0;34m\"lat\"\u001b[0m\u001b[0;34m,\u001b[0m \u001b[0;34m\"long\"\u001b[0m\u001b[0;34m)\u001b[0m\u001b[0;34m.\u001b[0m\u001b[0;31m \u001b[0m\u001b[0;31m\\\u001b[0m\u001b[0;34m\u001b[0m\u001b[0;34m\u001b[0m\u001b[0m\n\u001b[1;32m      9\u001b[0m                                     \u001b[0mby\u001b[0m\u001b[0;34m(\u001b[0m\u001b[0mkey\u001b[0m\u001b[0;34m)\u001b[0m\u001b[0;34m.\u001b[0m\u001b[0;31m \u001b[0m\u001b[0;31m\\\u001b[0m\u001b[0;34m\u001b[0m\u001b[0;34m\u001b[0m\u001b[0m\n",
      "\u001b[0;31mNameError\u001b[0m: name 'Geo' is not defined"
     ]
    }
   ],
   "source": [
    "create_weighted_send_edges(sensors[0], g, \"Sensor\", \"sensorName\")"
   ]
  },
  {
   "cell_type": "code",
   "execution_count": 8,
   "metadata": {},
   "outputs": [],
   "source": [
    "test = {}\n",
    "test.get(\"nada\")"
   ]
  },
  {
   "cell_type": "code",
   "execution_count": 9,
   "metadata": {},
   "outputs": [],
   "source": [
    "test.get(\"nada\")"
   ]
  },
  {
   "cell_type": "code",
   "execution_count": 10,
   "metadata": {},
   "outputs": [
    {
     "data": {
      "text/plain": [
       "{}"
      ]
     },
     "execution_count": 10,
     "metadata": {},
     "output_type": "execute_result"
    }
   ],
   "source": [
    "test"
   ]
  },
  {
   "cell_type": "code",
   "execution_count": 14,
   "metadata": {},
   "outputs": [],
   "source": [
    "val = test.get(\"a\")\n",
    "bal2 = test.get(\"B\")"
   ]
  },
  {
   "cell_type": "code",
   "execution_count": 21,
   "metadata": {},
   "outputs": [],
   "source": [
    "if (val and bal2) is not None:\n",
    "    print(\"yes!\")"
   ]
  },
  {
   "cell_type": "code",
   "execution_count": 35,
   "metadata": {},
   "outputs": [],
   "source": [
    "test = {1:2, 2:3, 0:4}"
   ]
  },
  {
   "cell_type": "code",
   "execution_count": 36,
   "metadata": {},
   "outputs": [
    {
     "data": {
      "text/plain": [
       "{1: 2, 2: 3, 0: 4}"
      ]
     },
     "execution_count": 36,
     "metadata": {},
     "output_type": "execute_result"
    }
   ],
   "source": [
    "test"
   ]
  },
  {
   "cell_type": "code",
   "execution_count": 37,
   "metadata": {},
   "outputs": [],
   "source": [
    "test = dict(sorted(test.items()))"
   ]
  },
  {
   "cell_type": "code",
   "execution_count": 38,
   "metadata": {},
   "outputs": [
    {
     "data": {
      "text/plain": [
       "{0: 4, 1: 2, 2: 3}"
      ]
     },
     "execution_count": 38,
     "metadata": {},
     "output_type": "execute_result"
    }
   ],
   "source": [
    "test"
   ]
  },
  {
   "cell_type": "code",
   "execution_count": null,
   "metadata": {},
   "outputs": [],
   "source": []
  }
 ],
 "metadata": {
  "kernelspec": {
   "display_name": "Python 3",
   "language": "python",
   "name": "python3"
  },
  "language_info": {
   "codemirror_mode": {
    "name": "ipython",
    "version": 3
   },
   "file_extension": ".py",
   "mimetype": "text/x-python",
   "name": "python",
   "nbconvert_exporter": "python",
   "pygments_lexer": "ipython3",
   "version": "3.7.3"
  }
 },
 "nbformat": 4,
 "nbformat_minor": 2
}
